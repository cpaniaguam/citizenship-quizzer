{
 "cells": [
  {
   "cell_type": "code",
   "execution_count": 2,
   "metadata": {},
   "outputs": [
    {
     "name": "stdout",
     "output_type": "stream",
     "text": [
      "Category: Principles of American Democracy\n",
      "Question ID: 1\n",
      "Question: What is the supreme law of the land?\n",
      "Answers: ['the Constitution']\n",
      "Question ID: 2\n",
      "Question: What does the Constitution do?\n",
      "Answers: ['sets up the government', 'defines the government', 'protects basic rights of Americans']\n",
      "Question ID: 3\n",
      "Question: The idea of self-government is in the first three words of the Constitution. What are these words?\n",
      "Answers: ['We the People']\n",
      "Question ID: 4\n",
      "Question: What is an amendment?\n",
      "Answers: ['a change (to the Constitution)', 'an addition (to the Constitution)']\n",
      "Question ID: 5\n",
      "Question: What do we call the first ten amendments to the Constitution?\n",
      "Answers: ['the Bill of Rights']\n",
      "Question ID: 6\n",
      "Question: What is one right or freedom from the First Amendment?\n",
      "Answers: ['speech', 'religion', 'assembly', 'press', 'petition the government']\n",
      "Question ID: 7\n",
      "Question: How many amendments does the Constitution have?\n",
      "Answers: ['twenty-seven (27)']\n",
      "Question ID: 8\n",
      "Question: What did the Declaration of Independence do?\n",
      "Answers: ['announced our independence (from Great Britain)', 'declared our independence (from Great Britain)', 'said that the United States is free (from Great Britain)']\n",
      "Question ID: 9\n",
      "Question: What are two rights in the Declaration of Independence?\n",
      "Answers: ['life', 'liberty', 'pursuit of happiness']\n",
      "Question ID: 10\n",
      "Question: What is freedom of religion?\n",
      "Answers: ['You can practice any religion, or not practice a religion.']\n",
      "Question ID: 11\n",
      "Question: What is the economic system in the United States?\n",
      "Answers: ['capitalist economy', 'market economy']\n",
      "Question ID: 12\n",
      "Question: What is the “rule of law”?\n",
      "Answers: ['Everyone must follow the law.', 'Leaders must obey the law.', 'Government must obey the law.']\n",
      "\n",
      "\n"
     ]
    }
   ],
   "source": [
    "import tomllib\n",
    "\n",
    "# Load the TOML file\n",
    "with open('questions.toml', 'rb') as file:\n",
    "    doc = tomllib.load(file)\n",
    "\n",
    "# Access data\n",
    "for question in doc['questions']:\n",
    "    print(f\"Category: {question['category']}\")\n",
    "    for q in question['questions']:\n",
    "        print(f\"Question ID: {q['id']}\")\n",
    "        print(f\"Question: {q['question']}\")\n",
    "        print(f\"Answers: {q['answers']}\")\n",
    "    print(\"\\n\")\n",
    "\n",
    "# if __name__ == '__main__':\n",
    "#     questions = parse_questions()\n",
    "#     print(questions)"
   ]
  },
  {
   "cell_type": "code",
   "execution_count": null,
   "metadata": {},
   "outputs": [],
   "source": []
  }
 ],
 "metadata": {
  "kernelspec": {
   "display_name": "Python 3 (ipykernel)",
   "language": "python",
   "name": "python3"
  },
  "language_info": {
   "codemirror_mode": {
    "name": "ipython",
    "version": 3
   },
   "file_extension": ".py",
   "mimetype": "text/x-python",
   "name": "python",
   "nbconvert_exporter": "python",
   "pygments_lexer": "ipython3",
   "version": "3.11.4"
  }
 },
 "nbformat": 4,
 "nbformat_minor": 4
}
